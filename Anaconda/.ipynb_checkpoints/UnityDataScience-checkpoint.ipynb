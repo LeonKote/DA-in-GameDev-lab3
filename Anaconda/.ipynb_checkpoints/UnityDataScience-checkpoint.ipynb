{
 "cells": [
  {
   "cell_type": "code",
   "execution_count": null,
   "id": "d6b4ca40",
   "metadata": {},
   "outputs": [
    {
     "name": "stderr",
     "output_type": "stream",
     "text": [
      "C:\\Users\\roman\\AppData\\Local\\Temp\\ipykernel_23248\\1999308298.py:13: DeprecationWarning: [Deprecated][in version 6.0.0]: Method signature's arguments 'range_name' and 'values' will change their order. We recommend using named arguments for minimal impact. In addition, the argument 'values' will be mandatory of type: 'List[List]'. (ex) Worksheet.update(values = [[]], range_name=) \n",
      "  sh.sheet1.update(('A' + str(i)), str(i))\n",
      "C:\\Users\\roman\\AppData\\Local\\Temp\\ipykernel_23248\\1999308298.py:14: DeprecationWarning: [Deprecated][in version 6.0.0]: Method signature's arguments 'range_name' and 'values' will change their order. We recommend using named arguments for minimal impact. In addition, the argument 'values' will be mandatory of type: 'List[List]'. (ex) Worksheet.update(values = [[]], range_name=) \n",
      "  sh.sheet1.update(('B' + str(i)), str(speed))\n",
      "C:\\Users\\roman\\AppData\\Local\\Temp\\ipykernel_23248\\1999308298.py:15: DeprecationWarning: [Deprecated][in version 6.0.0]: Method signature's arguments 'range_name' and 'values' will change their order. We recommend using named arguments for minimal impact. In addition, the argument 'values' will be mandatory of type: 'List[List]'. (ex) Worksheet.update(values = [[]], range_name=) \n",
      "  sh.sheet1.update(('C' + str(i)), str(round(chanceDirection, 3)))\n",
      "C:\\Users\\roman\\AppData\\Local\\Temp\\ipykernel_23248\\1999308298.py:16: DeprecationWarning: [Deprecated][in version 6.0.0]: Method signature's arguments 'range_name' and 'values' will change their order. We recommend using named arguments for minimal impact. In addition, the argument 'values' will be mandatory of type: 'List[List]'. (ex) Worksheet.update(values = [[]], range_name=) \n",
      "  sh.sheet1.update(('D' + str(i)), str(leftRightDistance))\n",
      "C:\\Users\\roman\\AppData\\Local\\Temp\\ipykernel_23248\\1999308298.py:17: DeprecationWarning: [Deprecated][in version 6.0.0]: Method signature's arguments 'range_name' and 'values' will change their order. We recommend using named arguments for minimal impact. In addition, the argument 'values' will be mandatory of type: 'List[List]'. (ex) Worksheet.update(values = [[]], range_name=) \n",
      "  sh.sheet1.update(('E' + str(i)), str(chanceDirection))\n"
     ]
    }
   ],
   "source": [
    "import gspread\n",
    "gc = gspread.service_account(filename='unitydatascience-400416-98e6ba2ba08f.json')\n",
    "sh = gc.open(\"UnityWorkshop3-2\")\n",
    "speed = 4\n",
    "timeBetweenEggDrops = 2\n",
    "leftRightDistance = 10\n",
    "chanceDirection = 0.01\n",
    "for i in range(1, 10):\n",
    "    speed += 1\n",
    "    timeBetweenEggDrops -= 0.1\n",
    "    leftRightDistance += 1\n",
    "    chanceDirection += 0.01\n",
    "    sh.sheet1.update(('A' + str(i)), str(i))\n",
    "    sh.sheet1.update(('B' + str(i)), str(speed))\n",
    "    sh.sheet1.update(('C' + str(i)), str(round(chanceDirection, 3)))\n",
    "    sh.sheet1.update(('D' + str(i)), str(leftRightDistance))\n",
    "    sh.sheet1.update(('E' + str(i)), str(chanceDirection))"
   ]
  },
  {
   "cell_type": "code",
   "execution_count": null,
   "id": "40b47425",
   "metadata": {},
   "outputs": [],
   "source": []
  },
  {
   "cell_type": "code",
   "execution_count": null,
   "id": "2cf419dd",
   "metadata": {},
   "outputs": [],
   "source": []
  },
  {
   "cell_type": "code",
   "execution_count": null,
   "id": "1e7819c0",
   "metadata": {},
   "outputs": [],
   "source": []
  }
 ],
 "metadata": {
  "kernelspec": {
   "display_name": "Python 3 (ipykernel)",
   "language": "python",
   "name": "python3"
  },
  "language_info": {
   "codemirror_mode": {
    "name": "ipython",
    "version": 3
   },
   "file_extension": ".py",
   "mimetype": "text/x-python",
   "name": "python",
   "nbconvert_exporter": "python",
   "pygments_lexer": "ipython3",
   "version": "3.11.5"
  }
 },
 "nbformat": 4,
 "nbformat_minor": 5
}
